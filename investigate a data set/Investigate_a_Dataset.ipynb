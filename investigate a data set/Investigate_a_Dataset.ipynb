{
 "cells": [
  {
   "cell_type": "markdown",
   "metadata": {},
   "source": [
    "\n",
    "\n",
    "# Project: Investigate a Dataset - [TMDB-Movies Dataset]\n",
    "\n",
    "## Table of Contents\n",
    "<ul>\n",
    "<li><a href=\"#intro\">Introduction</a></li>\n",
    "<li><a href=\"#wrangling\">Data Wrangling</a></li>\n",
    "<li><a href=\"#eda\">Exploratory Data Analysis</a></li>\n",
    "<li><a href=\"#conclusions\">Conclusions</a></li>\n",
    "</ul>"
   ]
  },
  {
   "cell_type": "markdown",
   "metadata": {},
   "source": [
    "<a id='intro'></a>\n",
    "## Introduction\n",
    "\n",
    "### Dataset Description \n",
    "This project seeks to analyse data from the tmdb movies data. The data set contains information about 10,000 movies collected from The Movie Database (TMDb), The dataset contains the underlisted columns/variables;\n",
    "\n",
    "* popularity\n",
    "\n",
    "* production_companies\n",
    "* Revenue\n",
    "* Budget\n",
    "* Release_year\n",
    "* vote_count etc.\n",
    "\n",
    "\n",
    "### Question(s) for Analysis\n",
    "This will the questions that will be answered in the project;\n",
    "* What is the correlation between Revenue and some of the varabbles in the dataset(Bugdet,Popularity,Vote count)\n",
    "* Which person has directed a lot of movies\n",
    "* Does Year of release has some kind of effect on Revenue"
   ]
  },
  {
   "cell_type": "code",
   "execution_count": 71,
   "metadata": {},
   "outputs": [],
   "source": [
    "import pandas as pd \n",
    "import numpy as np\n",
    "import matplotlib.pyplot as plt\n",
    "import seaborn as sns\n",
    "plt.rcParams[\"figure.figsize\"] = (15,10)\n",
    "plt.style.use('ggplot')\n",
    "%matplotlib inline\n",
    "\n"
   ]
  },
  {
   "cell_type": "code",
   "execution_count": 63,
   "metadata": {},
   "outputs": [
    {
     "name": "stdout",
     "output_type": "stream",
     "text": [
      "Collecting pandas==0.25.0"
     ]
    },
    {
     "name": "stderr",
     "output_type": "stream",
     "text": [
      "  ERROR: Command errored out with exit status 1:\n",
      "   command: 'C:\\Users\\lenovo\\anaconda31\\python.exe' -u -c 'import sys, setuptools, tokenize; sys.argv[0] = '\"'\"'C:\\\\Users\\\\lenovo\\\\AppData\\\\Local\\\\Temp\\\\pip-install-zm0z894h\\\\pandas\\\\setup.py'\"'\"'; __file__='\"'\"'C:\\\\Users\\\\lenovo\\\\AppData\\\\Local\\\\Temp\\\\pip-install-zm0z894h\\\\pandas\\\\setup.py'\"'\"';f=getattr(tokenize, '\"'\"'open'\"'\"', open)(__file__);code=f.read().replace('\"'\"'\\r\\n'\"'\"', '\"'\"'\\n'\"'\"');f.close();exec(compile(code, __file__, '\"'\"'exec'\"'\"'))' bdist_wheel -d 'C:\\Users\\lenovo\\AppData\\Local\\Temp\\pip-wheel-v7i80w25'\n",
      "       cwd: C:\\Users\\lenovo\\AppData\\Local\\Temp\\pip-install-zm0z894h\\pandas\\\n",
      "  Complete output (907 lines):\n",
      "  running bdist_wheel\n",
      "  running build\n",
      "  running build_py\n",
      "  creating build\n",
      "  creating build\\lib.win-amd64-3.8\n",
      "  creating build\\lib.win-amd64-3.8\\pandas\n",
      "  copying pandas\\conftest.py -> build\\lib.win-amd64-3.8\\pandas\n",
      "  copying pandas\\testing.py -> build\\lib.win-amd64-3.8\\pandas\n",
      "  copying pandas\\_typing.py -> build\\lib.win-amd64-3.8\\pandas\n",
      "  copying pandas\\_version.py -> build\\lib.win-amd64-3.8\\pandas\n",
      "  copying pandas\\__init__.py -> build\\lib.win-amd64-3.8\\pandas"
     ]
    },
    {
     "name": "stdout",
     "output_type": "stream",
     "text": [
      "\n",
      "  Using cached pandas-0.25.0.tar.gz (12.6 MB)\n",
      "Requirement already satisfied, skipping upgrade: python-dateutil>=2.6.1 in c:\\users\\lenovo\\anaconda31\\lib\\site-packages (from pandas==0.25.0) (2.8.1)\n",
      "Requirement already satisfied, skipping upgrade: pytz>=2017.2 in c:\\users\\lenovo\\anaconda31\\lib\\site-packages (from pandas==0.25.0) (2020.1)\n",
      "Requirement already satisfied, skipping upgrade: numpy>=1.13.3 in c:\\users\\lenovo\\anaconda31\\lib\\site-packages (from pandas==0.25.0) (1.18.5)\n",
      "Requirement already satisfied, skipping upgrade: six>=1.5 in c:\\users\\lenovo\\anaconda31\\lib\\site-packages (from python-dateutil>=2.6.1->pandas==0.25.0) (1.15.0)\n",
      "Building wheels for collected packages: pandas\n",
      "  Building wheel for pandas (setup.py): started\n",
      "  Building wheel for pandas (setup.py): finished with status 'error'\n",
      "  Running setup.py clean for pandas\n",
      "Failed to build pandas\n",
      "Installing collected packages: pandas\n",
      "  Attempting uninstall: pandas\n",
      "    Found existing installation: pandas 1.0.5\n",
      "    Uninstalling pandas-1.0.5:\n",
      "      Successfully uninstalled pandas-1.0.5\n",
      "    Running setup.py install for pandas: started\n",
      "    Running setup.py install for pandas: still running...\n",
      "    Running setup.py install for pandas: still running...\n",
      "    Running setup.py install for pandas: still running...\n",
      "    Running setup.py install for pandas: still running...\n",
      "    Running setup.py install for pandas: finished with status 'error'\n",
      "  Rolling back uninstall of pandas\n",
      "  Moving to c:\\users\\lenovo\\anaconda31\\lib\\site-packages\\pandas-1.0.5.dist-info\\\n",
      "   from C:\\Users\\lenovo\\anaconda31\\Lib\\site-packages\\~andas-1.0.5.dist-info\n",
      "  Moving to c:\\users\\lenovo\\anaconda31\\lib\\site-packages\\pandas\\\n",
      "   from C:\\Users\\lenovo\\anaconda31\\Lib\\site-packages\\~andas\n"
     ]
    },
    {
     "name": "stderr",
     "output_type": "stream",
     "text": [
      "\n",
      "  creating build\\lib.win-amd64-3.8\\pandas\\api\n",
      "  copying pandas\\api\\__init__.py -> build\\lib.win-amd64-3.8\\pandas\\api\n",
      "  creating build\\lib.win-amd64-3.8\\pandas\\arrays\n",
      "  copying pandas\\arrays\\__init__.py -> build\\lib.win-amd64-3.8\\pandas\\arrays\n",
      "  creating build\\lib.win-amd64-3.8\\pandas\\compat\n",
      "  copying pandas\\compat\\chainmap.py -> build\\lib.win-amd64-3.8\\pandas\\compat\n",
      "  copying pandas\\compat\\pickle_compat.py -> build\\lib.win-amd64-3.8\\pandas\\compat\n",
      "  copying pandas\\compat\\_optional.py -> build\\lib.win-amd64-3.8\\pandas\\compat\n",
      "  copying pandas\\compat\\__init__.py -> build\\lib.win-amd64-3.8\\pandas\\compat\n",
      "  creating build\\lib.win-amd64-3.8\\pandas\\core\n",
      "  copying pandas\\core\\accessor.py -> build\\lib.win-amd64-3.8\\pandas\\core\n",
      "  copying pandas\\core\\algorithms.py -> build\\lib.win-amd64-3.8\\pandas\\core\n",
      "  copying pandas\\core\\api.py -> build\\lib.win-amd64-3.8\\pandas\\core\n",
      "  copying pandas\\core\\apply.py -> build\\lib.win-amd64-3.8\\pandas\\core\n",
      "  copying pandas\\core\\base.py -> build\\lib.win-amd64-3.8\\pandas\\core\n",
      "  copying pandas\\core\\common.py -> build\\lib.win-amd64-3.8\\pandas\\core\n",
      "  copying pandas\\core\\config_init.py -> build\\lib.win-amd64-3.8\\pandas\\core\n",
      "  copying pandas\\core\\frame.py -> build\\lib.win-amd64-3.8\\pandas\\core\n",
      "  copying pandas\\core\\generic.py -> build\\lib.win-amd64-3.8\\pandas\\core\n",
      "  copying pandas\\core\\index.py -> build\\lib.win-amd64-3.8\\pandas\\core\n",
      "  copying pandas\\core\\indexers.py -> build\\lib.win-amd64-3.8\\pandas\\core\n",
      "  copying pandas\\core\\indexing.py -> build\\lib.win-amd64-3.8\\pandas\\core\n",
      "  copying pandas\\core\\missing.py -> build\\lib.win-amd64-3.8\\pandas\\core\n",
      "  copying pandas\\core\\nanops.py -> build\\lib.win-amd64-3.8\\pandas\\core\n",
      "  copying pandas\\core\\resample.py -> build\\lib.win-amd64-3.8\\pandas\\core\n",
      "  copying pandas\\core\\series.py -> build\\lib.win-amd64-3.8\\pandas\\core\n",
      "  copying pandas\\core\\sorting.py -> build\\lib.win-amd64-3.8\\pandas\\core\n",
      "  copying pandas\\core\\strings.py -> build\\lib.win-amd64-3.8\\pandas\\core\n",
      "  copying pandas\\core\\window.py -> build\\lib.win-amd64-3.8\\pandas\\core\n",
      "  copying pandas\\core\\__init__.py -> build\\lib.win-amd64-3.8\\pandas\\core\n",
      "  creating build\\lib.win-amd64-3.8\\pandas\\errors\n",
      "  copying pandas\\errors\\__init__.py -> build\\lib.win-amd64-3.8\\pandas\\errors\n",
      "  creating build\\lib.win-amd64-3.8\\pandas\\io\n",
      "  copying pandas\\io\\api.py -> build\\lib.win-amd64-3.8\\pandas\\io\n",
      "  copying pandas\\io\\clipboards.py -> build\\lib.win-amd64-3.8\\pandas\\io\n",
      "  copying pandas\\io\\common.py -> build\\lib.win-amd64-3.8\\pandas\\io\n",
      "  copying pandas\\io\\date_converters.py -> build\\lib.win-amd64-3.8\\pandas\\io\n",
      "  copying pandas\\io\\feather_format.py -> build\\lib.win-amd64-3.8\\pandas\\io\n",
      "  copying pandas\\io\\gbq.py -> build\\lib.win-amd64-3.8\\pandas\\io\n",
      "  copying pandas\\io\\gcs.py -> build\\lib.win-amd64-3.8\\pandas\\io\n",
      "  copying pandas\\io\\html.py -> build\\lib.win-amd64-3.8\\pandas\\io\n",
      "  copying pandas\\io\\packers.py -> build\\lib.win-amd64-3.8\\pandas\\io\n",
      "  copying pandas\\io\\parquet.py -> build\\lib.win-amd64-3.8\\pandas\\io\n",
      "  copying pandas\\io\\parsers.py -> build\\lib.win-amd64-3.8\\pandas\\io\n",
      "  copying pandas\\io\\pickle.py -> build\\lib.win-amd64-3.8\\pandas\\io\n",
      "  copying pandas\\io\\pytables.py -> build\\lib.win-amd64-3.8\\pandas\\io\n",
      "  copying pandas\\io\\s3.py -> build\\lib.win-amd64-3.8\\pandas\\io\n",
      "  copying pandas\\io\\spss.py -> build\\lib.win-amd64-3.8\\pandas\\io\n",
      "  copying pandas\\io\\sql.py -> build\\lib.win-amd64-3.8\\pandas\\io\n",
      "  copying pandas\\io\\stata.py -> build\\lib.win-amd64-3.8\\pandas\\io\n",
      "  copying pandas\\io\\__init__.py -> build\\lib.win-amd64-3.8\\pandas\\io\n",
      "  creating build\\lib.win-amd64-3.8\\pandas\\plotting\n",
      "  copying pandas\\plotting\\_core.py -> build\\lib.win-amd64-3.8\\pandas\\plotting\n",
      "  copying pandas\\plotting\\_misc.py -> build\\lib.win-amd64-3.8\\pandas\\plotting\n",
      "  copying pandas\\plotting\\__init__.py -> build\\lib.win-amd64-3.8\\pandas\\plotting\n",
      "  creating build\\lib.win-amd64-3.8\\pandas\\tests\n",
      "  copying pandas\\tests\\test_algos.py -> build\\lib.win-amd64-3.8\\pandas\\tests\n",
      "  copying pandas\\tests\\test_base.py -> build\\lib.win-amd64-3.8\\pandas\\tests\n",
      "  copying pandas\\tests\\test_common.py -> build\\lib.win-amd64-3.8\\pandas\\tests\n",
      "  copying pandas\\tests\\test_compat.py -> build\\lib.win-amd64-3.8\\pandas\\tests\n",
      "  copying pandas\\tests\\test_downstream.py -> build\\lib.win-amd64-3.8\\pandas\\tests\n",
      "  copying pandas\\tests\\test_errors.py -> build\\lib.win-amd64-3.8\\pandas\\tests\n",
      "  copying pandas\\tests\\test_expressions.py -> build\\lib.win-amd64-3.8\\pandas\\tests\n",
      "  copying pandas\\tests\\test_join.py -> build\\lib.win-amd64-3.8\\pandas\\tests\n",
      "  copying pandas\\tests\\test_lib.py -> build\\lib.win-amd64-3.8\\pandas\\tests\n",
      "  copying pandas\\tests\\test_multilevel.py -> build\\lib.win-amd64-3.8\\pandas\\tests\n",
      "  copying pandas\\tests\\test_nanops.py -> build\\lib.win-amd64-3.8\\pandas\\tests\n",
      "  copying pandas\\tests\\test_optional_dependency.py -> build\\lib.win-amd64-3.8\\pandas\\tests\n",
      "  copying pandas\\tests\\test_register_accessor.py -> build\\lib.win-amd64-3.8\\pandas\\tests\n",
      "  copying pandas\\tests\\test_sorting.py -> build\\lib.win-amd64-3.8\\pandas\\tests\n",
      "  copying pandas\\tests\\test_strings.py -> build\\lib.win-amd64-3.8\\pandas\\tests\n",
      "  copying pandas\\tests\\test_take.py -> build\\lib.win-amd64-3.8\\pandas\\tests\n",
      "  copying pandas\\tests\\__init__.py -> build\\lib.win-amd64-3.8\\pandas\\tests\n",
      "  creating build\\lib.win-amd64-3.8\\pandas\\tseries\n",
      "  copying pandas\\tseries\\api.py -> build\\lib.win-amd64-3.8\\pandas\\tseries\n",
      "  copying pandas\\tseries\\converter.py -> build\\lib.win-amd64-3.8\\pandas\\tseries\n",
      "  copying pandas\\tseries\\frequencies.py -> build\\lib.win-amd64-3.8\\pandas\\tseries\n",
      "  copying pandas\\tseries\\holiday.py -> build\\lib.win-amd64-3.8\\pandas\\tseries\n",
      "  copying pandas\\tseries\\offsets.py -> build\\lib.win-amd64-3.8\\pandas\\tseries\n",
      "  copying pandas\\tseries\\plotting.py -> build\\lib.win-amd64-3.8\\pandas\\tseries\n",
      "  copying pandas\\tseries\\__init__.py -> build\\lib.win-amd64-3.8\\pandas\\tseries\n",
      "  creating build\\lib.win-amd64-3.8\\pandas\\util\n",
      "  copying pandas\\util\\testing.py -> build\\lib.win-amd64-3.8\\pandas\\util\n",
      "  copying pandas\\util\\_decorators.py -> build\\lib.win-amd64-3.8\\pandas\\util\n",
      "  copying pandas\\util\\_depr_module.py -> build\\lib.win-amd64-3.8\\pandas\\util\n",
      "  copying pandas\\util\\_doctools.py -> build\\lib.win-amd64-3.8\\pandas\\util\n",
      "  copying pandas\\util\\_exceptions.py -> build\\lib.win-amd64-3.8\\pandas\\util\n",
      "  copying pandas\\util\\_print_versions.py -> build\\lib.win-amd64-3.8\\pandas\\util\n",
      "  copying pandas\\util\\_tester.py -> build\\lib.win-amd64-3.8\\pandas\\util\n",
      "  copying pandas\\util\\_test_decorators.py -> build\\lib.win-amd64-3.8\\pandas\\util\n",
      "  copying pandas\\util\\_validators.py -> build\\lib.win-amd64-3.8\\pandas\\util\n",
      "  copying pandas\\util\\__init__.py -> build\\lib.win-amd64-3.8\\pandas\\util\n",
      "  creating build\\lib.win-amd64-3.8\\pandas\\_config\n",
      "  copying pandas\\_config\\config.py -> build\\lib.win-amd64-3.8\\pandas\\_config\n",
      "  copying pandas\\_config\\dates.py -> build\\lib.win-amd64-3.8\\pandas\\_config\n",
      "  copying pandas\\_config\\display.py -> build\\lib.win-amd64-3.8\\pandas\\_config\n",
      "  copying pandas\\_config\\localization.py -> build\\lib.win-amd64-3.8\\pandas\\_config\n",
      "  copying pandas\\_config\\__init__.py -> build\\lib.win-amd64-3.8\\pandas\\_config\n",
      "  creating build\\lib.win-amd64-3.8\\pandas\\_libs\n",
      "  copying pandas\\_libs\\__init__.py -> build\\lib.win-amd64-3.8\\pandas\\_libs\n",
      "  creating build\\lib.win-amd64-3.8\\pandas\\api\\extensions\n",
      "  copying pandas\\api\\extensions\\__init__.py -> build\\lib.win-amd64-3.8\\pandas\\api\\extensions\n",
      "  creating build\\lib.win-amd64-3.8\\pandas\\api\\types\n",
      "  copying pandas\\api\\types\\__init__.py -> build\\lib.win-amd64-3.8\\pandas\\api\\types\n",
      "  creating build\\lib.win-amd64-3.8\\pandas\\compat\\numpy\n",
      "  copying pandas\\compat\\numpy\\function.py -> build\\lib.win-amd64-3.8\\pandas\\compat\\numpy\n",
      "  copying pandas\\compat\\numpy\\__init__.py -> build\\lib.win-amd64-3.8\\pandas\\compat\\numpy\n",
      "  creating build\\lib.win-amd64-3.8\\pandas\\core\\arrays\n",
      "  copying pandas\\core\\arrays\\array_.py -> build\\lib.win-amd64-3.8\\pandas\\core\\arrays\n",
      "  copying pandas\\core\\arrays\\base.py -> build\\lib.win-amd64-3.8\\pandas\\core\\arrays\n",
      "  copying pandas\\core\\arrays\\categorical.py -> build\\lib.win-amd64-3.8\\pandas\\core\\arrays\n",
      "  copying pandas\\core\\arrays\\datetimelike.py -> build\\lib.win-amd64-3.8\\pandas\\core\\arrays\n",
      "  copying pandas\\core\\arrays\\datetimes.py -> build\\lib.win-amd64-3.8\\pandas\\core\\arrays\n",
      "  copying pandas\\core\\arrays\\integer.py -> build\\lib.win-amd64-3.8\\pandas\\core\\arrays\n",
      "  copying pandas\\core\\arrays\\interval.py -> build\\lib.win-amd64-3.8\\pandas\\core\\arrays\n",
      "  copying pandas\\core\\arrays\\numpy_.py -> build\\lib.win-amd64-3.8\\pandas\\core\\arrays\n",
      "  copying pandas\\core\\arrays\\period.py -> build\\lib.win-amd64-3.8\\pandas\\core\\arrays\n",
      "  copying pandas\\core\\arrays\\sparse.py -> build\\lib.win-amd64-3.8\\pandas\\core\\arrays\n",
      "  copying pandas\\core\\arrays\\timedeltas.py -> build\\lib.win-amd64-3.8\\pandas\\core\\arrays\n",
      "  copying pandas\\core\\arrays\\_ranges.py -> build\\lib.win-amd64-3.8\\pandas\\core\\arrays\n",
      "  copying pandas\\core\\arrays\\__init__.py -> build\\lib.win-amd64-3.8\\pandas\\core\\arrays\n",
      "  creating build\\lib.win-amd64-3.8\\pandas\\core\\computation\n",
      "  copying pandas\\core\\computation\\align.py -> build\\lib.win-amd64-3.8\\pandas\\core\\computation\n",
      "  copying pandas\\core\\computation\\api.py -> build\\lib.win-amd64-3.8\\pandas\\core\\computation\n",
      "  copying pandas\\core\\computation\\check.py -> build\\lib.win-amd64-3.8\\pandas\\core\\computation\n",
      "  copying pandas\\core\\computation\\common.py -> build\\lib.win-amd64-3.8\\pandas\\core\\computation\n",
      "  copying pandas\\core\\computation\\engines.py -> build\\lib.win-amd64-3.8\\pandas\\core\\computation\n",
      "  copying pandas\\core\\computation\\eval.py -> build\\lib.win-amd64-3.8\\pandas\\core\\computation\n",
      "  copying pandas\\core\\computation\\expr.py -> build\\lib.win-amd64-3.8\\pandas\\core\\computation\n",
      "  copying pandas\\core\\computation\\expressions.py -> build\\lib.win-amd64-3.8\\pandas\\core\\computation\n",
      "  copying pandas\\core\\computation\\ops.py -> build\\lib.win-amd64-3.8\\pandas\\core\\computation\n",
      "  copying pandas\\core\\computation\\pytables.py -> build\\lib.win-amd64-3.8\\pandas\\core\\computation\n",
      "  copying pandas\\core\\computation\\scope.py -> build\\lib.win-amd64-3.8\\pandas\\core\\computation\n",
      "  copying pandas\\core\\computation\\__init__.py -> build\\lib.win-amd64-3.8\\pandas\\core\\computation\n",
      "  creating build\\lib.win-amd64-3.8\\pandas\\core\\dtypes\n",
      "  copying pandas\\core\\dtypes\\api.py -> build\\lib.win-amd64-3.8\\pandas\\core\\dtypes\n",
      "  copying pandas\\core\\dtypes\\base.py -> build\\lib.win-amd64-3.8\\pandas\\core\\dtypes\n",
      "  copying pandas\\core\\dtypes\\cast.py -> build\\lib.win-amd64-3.8\\pandas\\core\\dtypes\n",
      "  copying pandas\\core\\dtypes\\common.py -> build\\lib.win-amd64-3.8\\pandas\\core\\dtypes\n",
      "  copying pandas\\core\\dtypes\\concat.py -> build\\lib.win-amd64-3.8\\pandas\\core\\dtypes\n",
      "  copying pandas\\core\\dtypes\\dtypes.py -> build\\lib.win-amd64-3.8\\pandas\\core\\dtypes\n",
      "  copying pandas\\core\\dtypes\\generic.py -> build\\lib.win-amd64-3.8\\pandas\\core\\dtypes\n",
      "  copying pandas\\core\\dtypes\\inference.py -> build\\lib.win-amd64-3.8\\pandas\\core\\dtypes\n",
      "  copying pandas\\core\\dtypes\\missing.py -> build\\lib.win-amd64-3.8\\pandas\\core\\dtypes\n",
      "  copying pandas\\core\\dtypes\\__init__.py -> build\\lib.win-amd64-3.8\\pandas\\core\\dtypes\n",
      "  creating build\\lib.win-amd64-3.8\\pandas\\core\\groupby\n",
      "  copying pandas\\core\\groupby\\base.py -> build\\lib.win-amd64-3.8\\pandas\\core\\groupby\n",
      "  copying pandas\\core\\groupby\\categorical.py -> build\\lib.win-amd64-3.8\\pandas\\core\\groupby\n",
      "  copying pandas\\core\\groupby\\generic.py -> build\\lib.win-amd64-3.8\\pandas\\core\\groupby\n",
      "  copying pandas\\core\\groupby\\groupby.py -> build\\lib.win-amd64-3.8\\pandas\\core\\groupby\n",
      "  copying pandas\\core\\groupby\\grouper.py -> build\\lib.win-amd64-3.8\\pandas\\core\\groupby\n",
      "  copying pandas\\core\\groupby\\ops.py -> build\\lib.win-amd64-3.8\\pandas\\core\\groupby\n",
      "  copying pandas\\core\\groupby\\__init__.py -> build\\lib.win-amd64-3.8\\pandas\\core\\groupby\n",
      "  creating build\\lib.win-amd64-3.8\\pandas\\core\\indexes\n",
      "  copying pandas\\core\\indexes\\accessors.py -> build\\lib.win-amd64-3.8\\pandas\\core\\indexes\n",
      "  copying pandas\\core\\indexes\\api.py -> build\\lib.win-amd64-3.8\\pandas\\core\\indexes\n",
      "  copying pandas\\core\\indexes\\base.py -> build\\lib.win-amd64-3.8\\pandas\\core\\indexes\n",
      "  copying pandas\\core\\indexes\\category.py -> build\\lib.win-amd64-3.8\\pandas\\core\\indexes\n",
      "  copying pandas\\core\\indexes\\datetimelike.py -> build\\lib.win-amd64-3.8\\pandas\\core\\indexes\n",
      "  copying pandas\\core\\indexes\\datetimes.py -> build\\lib.win-amd64-3.8\\pandas\\core\\indexes\n",
      "  copying pandas\\core\\indexes\\frozen.py -> build\\lib.win-amd64-3.8\\pandas\\core\\indexes\n",
      "  copying pandas\\core\\indexes\\interval.py -> build\\lib.win-amd64-3.8\\pandas\\core\\indexes\n",
      "  copying pandas\\core\\indexes\\multi.py -> build\\lib.win-amd64-3.8\\pandas\\core\\indexes\n",
      "  copying pandas\\core\\indexes\\numeric.py -> build\\lib.win-amd64-3.8\\pandas\\core\\indexes\n",
      "  copying pandas\\core\\indexes\\period.py -> build\\lib.win-amd64-3.8\\pandas\\core\\indexes\n",
      "  copying pandas\\core\\indexes\\range.py -> build\\lib.win-amd64-3.8\\pandas\\core\\indexes\n",
      "  copying pandas\\core\\indexes\\timedeltas.py -> build\\lib.win-amd64-3.8\\pandas\\core\\indexes\n",
      "  copying pandas\\core\\indexes\\__init__.py -> build\\lib.win-amd64-3.8\\pandas\\core\\indexes\n",
      "  creating build\\lib.win-amd64-3.8\\pandas\\core\\internals\n",
      "  copying pandas\\core\\internals\\arrays.py -> build\\lib.win-amd64-3.8\\pandas\\core\\internals\n",
      "  copying pandas\\core\\internals\\blocks.py -> build\\lib.win-amd64-3.8\\pandas\\core\\internals\n",
      "  copying pandas\\core\\internals\\concat.py -> build\\lib.win-amd64-3.8\\pandas\\core\\internals\n",
      "  copying pandas\\core\\internals\\construction.py -> build\\lib.win-amd64-3.8\\pandas\\core\\internals\n",
      "  copying pandas\\core\\internals\\managers.py -> build\\lib.win-amd64-3.8\\pandas\\core\\internals\n",
      "  copying pandas\\core\\internals\\__init__.py -> build\\lib.win-amd64-3.8\\pandas\\core\\internals\n",
      "  creating build\\lib.win-amd64-3.8\\pandas\\core\\ops\n",
      "  copying pandas\\core\\ops\\docstrings.py -> build\\lib.win-amd64-3.8\\pandas\\core\\ops\n",
      "  copying pandas\\core\\ops\\missing.py -> build\\lib.win-amd64-3.8\\pandas\\core\\ops\n",
      "  copying pandas\\core\\ops\\roperator.py -> build\\lib.win-amd64-3.8\\pandas\\core\\ops\n",
      "  copying pandas\\core\\ops\\__init__.py -> build\\lib.win-amd64-3.8\\pandas\\core\\ops\n",
      "  creating build\\lib.win-amd64-3.8\\pandas\\core\\reshape\n",
      "  copying pandas\\core\\reshape\\api.py -> build\\lib.win-amd64-3.8\\pandas\\core\\reshape\n",
      "  copying pandas\\core\\reshape\\concat.py -> build\\lib.win-amd64-3.8\\pandas\\core\\reshape\n",
      "  copying pandas\\core\\reshape\\melt.py -> build\\lib.win-amd64-3.8\\pandas\\core\\reshape\n",
      "  copying pandas\\core\\reshape\\merge.py -> build\\lib.win-amd64-3.8\\pandas\\core\\reshape\n",
      "  copying pandas\\core\\reshape\\pivot.py -> build\\lib.win-amd64-3.8\\pandas\\core\\reshape\n",
      "  copying pandas\\core\\reshape\\reshape.py -> build\\lib.win-amd64-3.8\\pandas\\core\\reshape\n",
      "  copying pandas\\core\\reshape\\tile.py -> build\\lib.win-amd64-3.8\\pandas\\core\\reshape\n",
      "  copying pandas\\core\\reshape\\util.py -> build\\lib.win-amd64-3.8\\pandas\\core\\reshape\n",
      "  copying pandas\\core\\reshape\\__init__.py -> build\\lib.win-amd64-3.8\\pandas\\core\\reshape\n",
      "  creating build\\lib.win-amd64-3.8\\pandas\\core\\sparse\n",
      "  copying pandas\\core\\sparse\\api.py -> build\\lib.win-amd64-3.8\\pandas\\core\\sparse\n",
      "  copying pandas\\core\\sparse\\frame.py -> build\\lib.win-amd64-3.8\\pandas\\core\\sparse\n",
      "  copying pandas\\core\\sparse\\scipy_sparse.py -> build\\lib.win-amd64-3.8\\pandas\\core\\sparse\n",
      "  copying pandas\\core\\sparse\\series.py -> build\\lib.win-amd64-3.8\\pandas\\core\\sparse\n",
      "  copying pandas\\core\\sparse\\__init__.py -> build\\lib.win-amd64-3.8\\pandas\\core\\sparse\n",
      "  creating build\\lib.win-amd64-3.8\\pandas\\core\\tools\n",
      "  copying pandas\\core\\tools\\datetimes.py -> build\\lib.win-amd64-3.8\\pandas\\core\\tools\n",
      "  copying pandas\\core\\tools\\numeric.py -> build\\lib.win-amd64-3.8\\pandas\\core\\tools\n",
      "  copying pandas\\core\\tools\\timedeltas.py -> build\\lib.win-amd64-3.8\\pandas\\core\\tools\n",
      "  copying pandas\\core\\tools\\__init__.py -> build\\lib.win-amd64-3.8\\pandas\\core\\tools\n",
      "  creating build\\lib.win-amd64-3.8\\pandas\\core\\util\n",
      "  copying pandas\\core\\util\\hashing.py -> build\\lib.win-amd64-3.8\\pandas\\core\\util\n",
      "  copying pandas\\core\\util\\__init__.py -> build\\lib.win-amd64-3.8\\pandas\\core\\util\n",
      "  creating build\\lib.win-amd64-3.8\\pandas\\io\\clipboard\n",
      "  copying pandas\\io\\clipboard\\clipboards.py -> build\\lib.win-amd64-3.8\\pandas\\io\\clipboard\n",
      "  copying pandas\\io\\clipboard\\exceptions.py -> build\\lib.win-amd64-3.8\\pandas\\io\\clipboard\n",
      "  copying pandas\\io\\clipboard\\windows.py -> build\\lib.win-amd64-3.8\\pandas\\io\\clipboard\n",
      "  copying pandas\\io\\clipboard\\__init__.py -> build\\lib.win-amd64-3.8\\pandas\\io\\clipboard\n",
      "  creating build\\lib.win-amd64-3.8\\pandas\\io\\excel\n",
      "  copying pandas\\io\\excel\\_base.py -> build\\lib.win-amd64-3.8\\pandas\\io\\excel\n",
      "  copying pandas\\io\\excel\\_odfreader.py -> build\\lib.win-amd64-3.8\\pandas\\io\\excel\n",
      "  copying pandas\\io\\excel\\_openpyxl.py -> build\\lib.win-amd64-3.8\\pandas\\io\\excel\n",
      "  copying pandas\\io\\excel\\_util.py -> build\\lib.win-amd64-3.8\\pandas\\io\\excel\n",
      "  copying pandas\\io\\excel\\_xlrd.py -> build\\lib.win-amd64-3.8\\pandas\\io\\excel\n",
      "  copying pandas\\io\\excel\\_xlsxwriter.py -> build\\lib.win-amd64-3.8\\pandas\\io\\excel\n",
      "  copying pandas\\io\\excel\\_xlwt.py -> build\\lib.win-amd64-3.8\\pandas\\io\\excel\n",
      "  copying pandas\\io\\excel\\__init__.py -> build\\lib.win-amd64-3.8\\pandas\\io\\excel\n",
      "  creating build\\lib.win-amd64-3.8\\pandas\\io\\formats\n",
      "  copying pandas\\io\\formats\\console.py -> build\\lib.win-amd64-3.8\\pandas\\io\\formats\n",
      "  copying pandas\\io\\formats\\css.py -> build\\lib.win-amd64-3.8\\pandas\\io\\formats\n",
      "  copying pandas\\io\\formats\\csvs.py -> build\\lib.win-amd64-3.8\\pandas\\io\\formats\n",
      "  copying pandas\\io\\formats\\excel.py -> build\\lib.win-amd64-3.8\\pandas\\io\\formats\n",
      "  copying pandas\\io\\formats\\format.py -> build\\lib.win-amd64-3.8\\pandas\\io\\formats\n",
      "  copying pandas\\io\\formats\\html.py -> build\\lib.win-amd64-3.8\\pandas\\io\\formats\n",
      "  copying pandas\\io\\formats\\latex.py -> build\\lib.win-amd64-3.8\\pandas\\io\\formats\n",
      "  copying pandas\\io\\formats\\printing.py -> build\\lib.win-amd64-3.8\\pandas\\io\\formats\n",
      "  copying pandas\\io\\formats\\style.py -> build\\lib.win-amd64-3.8\\pandas\\io\\formats\n",
      "  copying pandas\\io\\formats\\__init__.py -> build\\lib.win-amd64-3.8\\pandas\\io\\formats\n",
      "  creating build\\lib.win-amd64-3.8\\pandas\\io\\json\n",
      "  copying pandas\\io\\json\\_json.py -> build\\lib.win-amd64-3.8\\pandas\\io\\json\n",
      "  copying pandas\\io\\json\\_normalize.py -> build\\lib.win-amd64-3.8\\pandas\\io\\json\n",
      "  copying pandas\\io\\json\\_table_schema.py -> build\\lib.win-amd64-3.8\\pandas\\io\\json\n",
      "  copying pandas\\io\\json\\__init__.py -> build\\lib.win-amd64-3.8\\pandas\\io\\json\n",
      "  creating build\\lib.win-amd64-3.8\\pandas\\io\\msgpack\n",
      "  copying pandas\\io\\msgpack\\exceptions.py -> build\\lib.win-amd64-3.8\\pandas\\io\\msgpack\n",
      "  copying pandas\\io\\msgpack\\_version.py -> build\\lib.win-amd64-3.8\\pandas\\io\\msgpack\n",
      "  copying pandas\\io\\msgpack\\__init__.py -> build\\lib.win-amd64-3.8\\pandas\\io\\msgpack\n",
      "  creating build\\lib.win-amd64-3.8\\pandas\\io\\sas\n",
      "  copying pandas\\io\\sas\\sas7bdat.py -> build\\lib.win-amd64-3.8\\pandas\\io\\sas"
     ]
    }
   ],
   "source": [
    "# Upgrade pandas to use dataframe.explode() function. \n",
    "!pip install --upgrade pandas==0.25.0"
   ]
  },
  {
   "cell_type": "markdown",
   "metadata": {},
   "source": [
    "<a id='wrangling'></a>\n",
    "## Data Wrangling\n",
    "\n"
   ]
  },
  {
   "cell_type": "code",
   "execution_count": 72,
   "metadata": {},
   "outputs": [
    {
     "data": {
      "text/html": [
       "<div>\n",
       "<style scoped>\n",
       "    .dataframe tbody tr th:only-of-type {\n",
       "        vertical-align: middle;\n",
       "    }\n",
       "\n",
       "    .dataframe tbody tr th {\n",
       "        vertical-align: top;\n",
       "    }\n",
       "\n",
       "    .dataframe thead th {\n",
       "        text-align: right;\n",
       "    }\n",
       "</style>\n",
       "<table border=\"1\" class=\"dataframe\">\n",
       "  <thead>\n",
       "    <tr style=\"text-align: right;\">\n",
       "      <th></th>\n",
       "      <th>id</th>\n",
       "      <th>imdb_id</th>\n",
       "      <th>popularity</th>\n",
       "      <th>budget</th>\n",
       "      <th>revenue</th>\n",
       "      <th>original_title</th>\n",
       "      <th>cast</th>\n",
       "      <th>homepage</th>\n",
       "      <th>director</th>\n",
       "      <th>tagline</th>\n",
       "      <th>...</th>\n",
       "      <th>overview</th>\n",
       "      <th>runtime</th>\n",
       "      <th>genres</th>\n",
       "      <th>production_companies</th>\n",
       "      <th>release_date</th>\n",
       "      <th>vote_count</th>\n",
       "      <th>vote_average</th>\n",
       "      <th>release_year</th>\n",
       "      <th>budget_adj</th>\n",
       "      <th>revenue_adj</th>\n",
       "    </tr>\n",
       "  </thead>\n",
       "  <tbody>\n",
       "    <tr>\n",
       "      <th>0</th>\n",
       "      <td>135397</td>\n",
       "      <td>tt0369610</td>\n",
       "      <td>32.985763</td>\n",
       "      <td>150000000</td>\n",
       "      <td>1513528810</td>\n",
       "      <td>Jurassic World</td>\n",
       "      <td>Chris Pratt|Bryce Dallas Howard|Irrfan Khan|Vi...</td>\n",
       "      <td>http://www.jurassicworld.com/</td>\n",
       "      <td>Colin Trevorrow</td>\n",
       "      <td>The park is open.</td>\n",
       "      <td>...</td>\n",
       "      <td>Twenty-two years after the events of Jurassic ...</td>\n",
       "      <td>124</td>\n",
       "      <td>Action|Adventure|Science Fiction|Thriller</td>\n",
       "      <td>Universal Studios|Amblin Entertainment|Legenda...</td>\n",
       "      <td>6/9/15</td>\n",
       "      <td>5562</td>\n",
       "      <td>6.5</td>\n",
       "      <td>2015</td>\n",
       "      <td>1.379999e+08</td>\n",
       "      <td>1.392446e+09</td>\n",
       "    </tr>\n",
       "    <tr>\n",
       "      <th>1</th>\n",
       "      <td>76341</td>\n",
       "      <td>tt1392190</td>\n",
       "      <td>28.419936</td>\n",
       "      <td>150000000</td>\n",
       "      <td>378436354</td>\n",
       "      <td>Mad Max: Fury Road</td>\n",
       "      <td>Tom Hardy|Charlize Theron|Hugh Keays-Byrne|Nic...</td>\n",
       "      <td>http://www.madmaxmovie.com/</td>\n",
       "      <td>George Miller</td>\n",
       "      <td>What a Lovely Day.</td>\n",
       "      <td>...</td>\n",
       "      <td>An apocalyptic story set in the furthest reach...</td>\n",
       "      <td>120</td>\n",
       "      <td>Action|Adventure|Science Fiction|Thriller</td>\n",
       "      <td>Village Roadshow Pictures|Kennedy Miller Produ...</td>\n",
       "      <td>5/13/15</td>\n",
       "      <td>6185</td>\n",
       "      <td>7.1</td>\n",
       "      <td>2015</td>\n",
       "      <td>1.379999e+08</td>\n",
       "      <td>3.481613e+08</td>\n",
       "    </tr>\n",
       "    <tr>\n",
       "      <th>2</th>\n",
       "      <td>262500</td>\n",
       "      <td>tt2908446</td>\n",
       "      <td>13.112507</td>\n",
       "      <td>110000000</td>\n",
       "      <td>295238201</td>\n",
       "      <td>Insurgent</td>\n",
       "      <td>Shailene Woodley|Theo James|Kate Winslet|Ansel...</td>\n",
       "      <td>http://www.thedivergentseries.movie/#insurgent</td>\n",
       "      <td>Robert Schwentke</td>\n",
       "      <td>One Choice Can Destroy You</td>\n",
       "      <td>...</td>\n",
       "      <td>Beatrice Prior must confront her inner demons ...</td>\n",
       "      <td>119</td>\n",
       "      <td>Adventure|Science Fiction|Thriller</td>\n",
       "      <td>Summit Entertainment|Mandeville Films|Red Wago...</td>\n",
       "      <td>3/18/15</td>\n",
       "      <td>2480</td>\n",
       "      <td>6.3</td>\n",
       "      <td>2015</td>\n",
       "      <td>1.012000e+08</td>\n",
       "      <td>2.716190e+08</td>\n",
       "    </tr>\n",
       "    <tr>\n",
       "      <th>3</th>\n",
       "      <td>140607</td>\n",
       "      <td>tt2488496</td>\n",
       "      <td>11.173104</td>\n",
       "      <td>200000000</td>\n",
       "      <td>2068178225</td>\n",
       "      <td>Star Wars: The Force Awakens</td>\n",
       "      <td>Harrison Ford|Mark Hamill|Carrie Fisher|Adam D...</td>\n",
       "      <td>http://www.starwars.com/films/star-wars-episod...</td>\n",
       "      <td>J.J. Abrams</td>\n",
       "      <td>Every generation has a story.</td>\n",
       "      <td>...</td>\n",
       "      <td>Thirty years after defeating the Galactic Empi...</td>\n",
       "      <td>136</td>\n",
       "      <td>Action|Adventure|Science Fiction|Fantasy</td>\n",
       "      <td>Lucasfilm|Truenorth Productions|Bad Robot</td>\n",
       "      <td>12/15/15</td>\n",
       "      <td>5292</td>\n",
       "      <td>7.5</td>\n",
       "      <td>2015</td>\n",
       "      <td>1.839999e+08</td>\n",
       "      <td>1.902723e+09</td>\n",
       "    </tr>\n",
       "    <tr>\n",
       "      <th>4</th>\n",
       "      <td>168259</td>\n",
       "      <td>tt2820852</td>\n",
       "      <td>9.335014</td>\n",
       "      <td>190000000</td>\n",
       "      <td>1506249360</td>\n",
       "      <td>Furious 7</td>\n",
       "      <td>Vin Diesel|Paul Walker|Jason Statham|Michelle ...</td>\n",
       "      <td>http://www.furious7.com/</td>\n",
       "      <td>James Wan</td>\n",
       "      <td>Vengeance Hits Home</td>\n",
       "      <td>...</td>\n",
       "      <td>Deckard Shaw seeks revenge against Dominic Tor...</td>\n",
       "      <td>137</td>\n",
       "      <td>Action|Crime|Thriller</td>\n",
       "      <td>Universal Pictures|Original Film|Media Rights ...</td>\n",
       "      <td>4/1/15</td>\n",
       "      <td>2947</td>\n",
       "      <td>7.3</td>\n",
       "      <td>2015</td>\n",
       "      <td>1.747999e+08</td>\n",
       "      <td>1.385749e+09</td>\n",
       "    </tr>\n",
       "  </tbody>\n",
       "</table>\n",
       "<p>5 rows × 21 columns</p>\n",
       "</div>"
      ],
      "text/plain": [
       "       id    imdb_id  popularity     budget     revenue  \\\n",
       "0  135397  tt0369610   32.985763  150000000  1513528810   \n",
       "1   76341  tt1392190   28.419936  150000000   378436354   \n",
       "2  262500  tt2908446   13.112507  110000000   295238201   \n",
       "3  140607  tt2488496   11.173104  200000000  2068178225   \n",
       "4  168259  tt2820852    9.335014  190000000  1506249360   \n",
       "\n",
       "                 original_title  \\\n",
       "0                Jurassic World   \n",
       "1            Mad Max: Fury Road   \n",
       "2                     Insurgent   \n",
       "3  Star Wars: The Force Awakens   \n",
       "4                     Furious 7   \n",
       "\n",
       "                                                cast  \\\n",
       "0  Chris Pratt|Bryce Dallas Howard|Irrfan Khan|Vi...   \n",
       "1  Tom Hardy|Charlize Theron|Hugh Keays-Byrne|Nic...   \n",
       "2  Shailene Woodley|Theo James|Kate Winslet|Ansel...   \n",
       "3  Harrison Ford|Mark Hamill|Carrie Fisher|Adam D...   \n",
       "4  Vin Diesel|Paul Walker|Jason Statham|Michelle ...   \n",
       "\n",
       "                                            homepage          director  \\\n",
       "0                      http://www.jurassicworld.com/   Colin Trevorrow   \n",
       "1                        http://www.madmaxmovie.com/     George Miller   \n",
       "2     http://www.thedivergentseries.movie/#insurgent  Robert Schwentke   \n",
       "3  http://www.starwars.com/films/star-wars-episod...       J.J. Abrams   \n",
       "4                           http://www.furious7.com/         James Wan   \n",
       "\n",
       "                         tagline  ...  \\\n",
       "0              The park is open.  ...   \n",
       "1             What a Lovely Day.  ...   \n",
       "2     One Choice Can Destroy You  ...   \n",
       "3  Every generation has a story.  ...   \n",
       "4            Vengeance Hits Home  ...   \n",
       "\n",
       "                                            overview runtime  \\\n",
       "0  Twenty-two years after the events of Jurassic ...     124   \n",
       "1  An apocalyptic story set in the furthest reach...     120   \n",
       "2  Beatrice Prior must confront her inner demons ...     119   \n",
       "3  Thirty years after defeating the Galactic Empi...     136   \n",
       "4  Deckard Shaw seeks revenge against Dominic Tor...     137   \n",
       "\n",
       "                                      genres  \\\n",
       "0  Action|Adventure|Science Fiction|Thriller   \n",
       "1  Action|Adventure|Science Fiction|Thriller   \n",
       "2         Adventure|Science Fiction|Thriller   \n",
       "3   Action|Adventure|Science Fiction|Fantasy   \n",
       "4                      Action|Crime|Thriller   \n",
       "\n",
       "                                production_companies release_date vote_count  \\\n",
       "0  Universal Studios|Amblin Entertainment|Legenda...       6/9/15       5562   \n",
       "1  Village Roadshow Pictures|Kennedy Miller Produ...      5/13/15       6185   \n",
       "2  Summit Entertainment|Mandeville Films|Red Wago...      3/18/15       2480   \n",
       "3          Lucasfilm|Truenorth Productions|Bad Robot     12/15/15       5292   \n",
       "4  Universal Pictures|Original Film|Media Rights ...       4/1/15       2947   \n",
       "\n",
       "   vote_average  release_year    budget_adj   revenue_adj  \n",
       "0           6.5          2015  1.379999e+08  1.392446e+09  \n",
       "1           7.1          2015  1.379999e+08  3.481613e+08  \n",
       "2           6.3          2015  1.012000e+08  2.716190e+08  \n",
       "3           7.5          2015  1.839999e+08  1.902723e+09  \n",
       "4           7.3          2015  1.747999e+08  1.385749e+09  \n",
       "\n",
       "[5 rows x 21 columns]"
      ]
     },
     "execution_count": 72,
     "metadata": {},
     "output_type": "execute_result"
    }
   ],
   "source": [
    "# Load your data and print out a few lines. Perform operations to inspect data\n",
    "#   types and look for instances of missing or possibly errant data.\n",
    "df=pd.read_csv('tmdb-movies.csv')\n",
    "df.head()"
   ]
  },
  {
   "cell_type": "code",
   "execution_count": 73,
   "metadata": {},
   "outputs": [
    {
     "data": {
      "text/plain": [
       "(10866, 21)"
      ]
     },
     "execution_count": 73,
     "metadata": {},
     "output_type": "execute_result"
    }
   ],
   "source": [
    "df.shape"
   ]
  },
  {
   "cell_type": "code",
   "execution_count": 74,
   "metadata": {},
   "outputs": [
    {
     "name": "stdout",
     "output_type": "stream",
     "text": [
      "<class 'pandas.core.frame.DataFrame'>\n",
      "RangeIndex: 10866 entries, 0 to 10865\n",
      "Data columns (total 21 columns):\n",
      " #   Column                Non-Null Count  Dtype  \n",
      "---  ------                --------------  -----  \n",
      " 0   id                    10866 non-null  int64  \n",
      " 1   imdb_id               10856 non-null  object \n",
      " 2   popularity            10866 non-null  float64\n",
      " 3   budget                10866 non-null  int64  \n",
      " 4   revenue               10866 non-null  int64  \n",
      " 5   original_title        10866 non-null  object \n",
      " 6   cast                  10790 non-null  object \n",
      " 7   homepage              2936 non-null   object \n",
      " 8   director              10822 non-null  object \n",
      " 9   tagline               8042 non-null   object \n",
      " 10  keywords              9373 non-null   object \n",
      " 11  overview              10862 non-null  object \n",
      " 12  runtime               10866 non-null  int64  \n",
      " 13  genres                10843 non-null  object \n",
      " 14  production_companies  9836 non-null   object \n",
      " 15  release_date          10866 non-null  object \n",
      " 16  vote_count            10866 non-null  int64  \n",
      " 17  vote_average          10866 non-null  float64\n",
      " 18  release_year          10866 non-null  int64  \n",
      " 19  budget_adj            10866 non-null  float64\n",
      " 20  revenue_adj           10866 non-null  float64\n",
      "dtypes: float64(4), int64(6), object(11)\n",
      "memory usage: 1.7+ MB\n"
     ]
    }
   ],
   "source": [
    "#Getting information on the dataset\n",
    "df.info()"
   ]
  },
  {
   "cell_type": "code",
   "execution_count": 75,
   "metadata": {},
   "outputs": [
    {
     "data": {
      "text/plain": [
       "id                         0\n",
       "imdb_id                   10\n",
       "popularity                 0\n",
       "budget                     0\n",
       "revenue                    0\n",
       "original_title             0\n",
       "cast                      76\n",
       "homepage                7930\n",
       "director                  44\n",
       "tagline                 2824\n",
       "keywords                1493\n",
       "overview                   4\n",
       "runtime                    0\n",
       "genres                    23\n",
       "production_companies    1030\n",
       "release_date               0\n",
       "vote_count                 0\n",
       "vote_average               0\n",
       "release_year               0\n",
       "budget_adj                 0\n",
       "revenue_adj                0\n",
       "dtype: int64"
      ]
     },
     "execution_count": 75,
     "metadata": {},
     "output_type": "execute_result"
    }
   ],
   "source": [
    "#checking for missing values\n",
    "df.isnull().sum()"
   ]
  },
  {
   "cell_type": "code",
   "execution_count": 76,
   "metadata": {},
   "outputs": [
    {
     "data": {
      "text/plain": [
       "1"
      ]
     },
     "execution_count": 76,
     "metadata": {},
     "output_type": "execute_result"
    }
   ],
   "source": [
    "#checking for duplicated values \n",
    "df.duplicated().sum()"
   ]
  },
  {
   "cell_type": "markdown",
   "metadata": {},
   "source": [
    "\n",
    "### Data Cleaning\n",
    "From inspecting the data set above we realise that there are a lot of missing values in it with the ` homepage ` column recording the highest number of missing rows. we will drop unnecessary columns with missing values and then drop all rows with missing values.We will also drop all duplicated rows in the dataset.\n",
    "The ` release_date ` column will also  be changed into a datetime object which will be suitable for analysis\n",
    " "
   ]
  },
  {
   "cell_type": "code",
   "execution_count": 77,
   "metadata": {},
   "outputs": [
    {
     "data": {
      "text/plain": [
       "id                      0\n",
       "imdb_id                 0\n",
       "popularity              0\n",
       "budget                  0\n",
       "revenue                 0\n",
       "original_title          0\n",
       "cast                    0\n",
       "director                0\n",
       "overview                0\n",
       "runtime                 0\n",
       "genres                  0\n",
       "production_companies    0\n",
       "release_date            0\n",
       "vote_count              0\n",
       "vote_average            0\n",
       "release_year            0\n",
       "budget_adj              0\n",
       "revenue_adj             0\n",
       "dtype: int64"
      ]
     },
     "execution_count": 77,
     "metadata": {},
     "output_type": "execute_result"
    }
   ],
   "source": [
    "#drop any unnecessary variable with missing values more than 50% and then drop any other rows with missing values\n",
    "df.drop(['homepage','tagline','keywords'],inplace=True,axis=1) \n",
    "df.dropna(inplace=True)\n",
    "df.isnull().sum()\n"
   ]
  },
  {
   "cell_type": "code",
   "execution_count": 78,
   "metadata": {},
   "outputs": [
    {
     "data": {
      "text/plain": [
       "0"
      ]
     },
     "execution_count": 78,
     "metadata": {},
     "output_type": "execute_result"
    }
   ],
   "source": [
    "#drop duplicate values\n",
    "df.drop_duplicates(inplace=True)\n",
    "df.duplicated().sum()"
   ]
  },
  {
   "cell_type": "code",
   "execution_count": 79,
   "metadata": {},
   "outputs": [
    {
     "data": {
      "text/plain": [
       "dtype('<M8[ns]')"
      ]
     },
     "execution_count": 79,
     "metadata": {},
     "output_type": "execute_result"
    }
   ],
   "source": [
    "#converting release year and release date to datetime\n",
    "df['release_date']=pd.to_datetime(df['release_date'])\n",
    "df['release_date'].dtypes"
   ]
  },
  {
   "cell_type": "code",
   "execution_count": 80,
   "metadata": {},
   "outputs": [
    {
     "data": {
      "text/html": [
       "<div>\n",
       "<style scoped>\n",
       "    .dataframe tbody tr th:only-of-type {\n",
       "        vertical-align: middle;\n",
       "    }\n",
       "\n",
       "    .dataframe tbody tr th {\n",
       "        vertical-align: top;\n",
       "    }\n",
       "\n",
       "    .dataframe thead th {\n",
       "        text-align: right;\n",
       "    }\n",
       "</style>\n",
       "<table border=\"1\" class=\"dataframe\">\n",
       "  <thead>\n",
       "    <tr style=\"text-align: right;\">\n",
       "      <th></th>\n",
       "      <th>id</th>\n",
       "      <th>popularity</th>\n",
       "      <th>budget</th>\n",
       "      <th>revenue</th>\n",
       "      <th>runtime</th>\n",
       "      <th>vote_count</th>\n",
       "      <th>vote_average</th>\n",
       "      <th>release_year</th>\n",
       "      <th>budget_adj</th>\n",
       "      <th>revenue_adj</th>\n",
       "    </tr>\n",
       "  </thead>\n",
       "  <tbody>\n",
       "    <tr>\n",
       "      <th>count</th>\n",
       "      <td>9770.000000</td>\n",
       "      <td>9770.000000</td>\n",
       "      <td>9.770000e+03</td>\n",
       "      <td>9.770000e+03</td>\n",
       "      <td>9770.000000</td>\n",
       "      <td>9770.000000</td>\n",
       "      <td>9770.000000</td>\n",
       "      <td>9770.000000</td>\n",
       "      <td>9.770000e+03</td>\n",
       "      <td>9.770000e+03</td>\n",
       "    </tr>\n",
       "    <tr>\n",
       "      <th>mean</th>\n",
       "      <td>63190.584033</td>\n",
       "      <td>0.694775</td>\n",
       "      <td>1.618298e+07</td>\n",
       "      <td>4.424026e+07</td>\n",
       "      <td>102.939611</td>\n",
       "      <td>239.353224</td>\n",
       "      <td>5.963388</td>\n",
       "      <td>2000.876766</td>\n",
       "      <td>1.941997e+07</td>\n",
       "      <td>5.706477e+07</td>\n",
       "    </tr>\n",
       "    <tr>\n",
       "      <th>std</th>\n",
       "      <td>90725.204030</td>\n",
       "      <td>1.037027</td>\n",
       "      <td>3.221320e+07</td>\n",
       "      <td>1.225998e+08</td>\n",
       "      <td>27.865500</td>\n",
       "      <td>603.066348</td>\n",
       "      <td>0.913207</td>\n",
       "      <td>13.037610</td>\n",
       "      <td>3.566891e+07</td>\n",
       "      <td>1.514632e+08</td>\n",
       "    </tr>\n",
       "    <tr>\n",
       "      <th>min</th>\n",
       "      <td>5.000000</td>\n",
       "      <td>0.000188</td>\n",
       "      <td>0.000000e+00</td>\n",
       "      <td>0.000000e+00</td>\n",
       "      <td>0.000000</td>\n",
       "      <td>10.000000</td>\n",
       "      <td>1.500000</td>\n",
       "      <td>1960.000000</td>\n",
       "      <td>0.000000e+00</td>\n",
       "      <td>0.000000e+00</td>\n",
       "    </tr>\n",
       "    <tr>\n",
       "      <th>25%</th>\n",
       "      <td>10220.500000</td>\n",
       "      <td>0.232619</td>\n",
       "      <td>0.000000e+00</td>\n",
       "      <td>0.000000e+00</td>\n",
       "      <td>90.000000</td>\n",
       "      <td>18.000000</td>\n",
       "      <td>5.400000</td>\n",
       "      <td>1994.000000</td>\n",
       "      <td>0.000000e+00</td>\n",
       "      <td>0.000000e+00</td>\n",
       "    </tr>\n",
       "    <tr>\n",
       "      <th>50%</th>\n",
       "      <td>18677.500000</td>\n",
       "      <td>0.419762</td>\n",
       "      <td>2.000000e+05</td>\n",
       "      <td>0.000000e+00</td>\n",
       "      <td>100.000000</td>\n",
       "      <td>46.000000</td>\n",
       "      <td>6.000000</td>\n",
       "      <td>2005.000000</td>\n",
       "      <td>3.179631e+05</td>\n",
       "      <td>0.000000e+00</td>\n",
       "    </tr>\n",
       "    <tr>\n",
       "      <th>75%</th>\n",
       "      <td>70541.750000</td>\n",
       "      <td>0.776465</td>\n",
       "      <td>1.936250e+07</td>\n",
       "      <td>3.105779e+07</td>\n",
       "      <td>112.000000</td>\n",
       "      <td>173.000000</td>\n",
       "      <td>6.600000</td>\n",
       "      <td>2011.000000</td>\n",
       "      <td>2.467646e+07</td>\n",
       "      <td>4.312856e+07</td>\n",
       "    </tr>\n",
       "    <tr>\n",
       "      <th>max</th>\n",
       "      <td>417859.000000</td>\n",
       "      <td>32.985763</td>\n",
       "      <td>4.250000e+08</td>\n",
       "      <td>2.781506e+09</td>\n",
       "      <td>877.000000</td>\n",
       "      <td>9767.000000</td>\n",
       "      <td>8.700000</td>\n",
       "      <td>2015.000000</td>\n",
       "      <td>4.250000e+08</td>\n",
       "      <td>2.827124e+09</td>\n",
       "    </tr>\n",
       "  </tbody>\n",
       "</table>\n",
       "</div>"
      ],
      "text/plain": [
       "                  id   popularity        budget       revenue      runtime  \\\n",
       "count    9770.000000  9770.000000  9.770000e+03  9.770000e+03  9770.000000   \n",
       "mean    63190.584033     0.694775  1.618298e+07  4.424026e+07   102.939611   \n",
       "std     90725.204030     1.037027  3.221320e+07  1.225998e+08    27.865500   \n",
       "min         5.000000     0.000188  0.000000e+00  0.000000e+00     0.000000   \n",
       "25%     10220.500000     0.232619  0.000000e+00  0.000000e+00    90.000000   \n",
       "50%     18677.500000     0.419762  2.000000e+05  0.000000e+00   100.000000   \n",
       "75%     70541.750000     0.776465  1.936250e+07  3.105779e+07   112.000000   \n",
       "max    417859.000000    32.985763  4.250000e+08  2.781506e+09   877.000000   \n",
       "\n",
       "        vote_count  vote_average  release_year    budget_adj   revenue_adj  \n",
       "count  9770.000000   9770.000000   9770.000000  9.770000e+03  9.770000e+03  \n",
       "mean    239.353224      5.963388   2000.876766  1.941997e+07  5.706477e+07  \n",
       "std     603.066348      0.913207     13.037610  3.566891e+07  1.514632e+08  \n",
       "min      10.000000      1.500000   1960.000000  0.000000e+00  0.000000e+00  \n",
       "25%      18.000000      5.400000   1994.000000  0.000000e+00  0.000000e+00  \n",
       "50%      46.000000      6.000000   2005.000000  3.179631e+05  0.000000e+00  \n",
       "75%     173.000000      6.600000   2011.000000  2.467646e+07  4.312856e+07  \n",
       "max    9767.000000      8.700000   2015.000000  4.250000e+08  2.827124e+09  "
      ]
     },
     "execution_count": 80,
     "metadata": {},
     "output_type": "execute_result"
    }
   ],
   "source": [
    "df.describe()"
   ]
  },
  {
   "cell_type": "markdown",
   "metadata": {},
   "source": [
    "<a id='eda'></a>\n",
    "## Exploratory Data Analysis\n",
    "\n",
    "We intend to explore the dataset through summary statistics and visualisations to find hidden patterns in the dataset to enable us to answer our research questions.\n",
    "\n",
    "\n",
    "### Research Question 1 (What is the correlation between Revenue and some of the varabbles in the dataset(Bugdet,Popularity,Vote count ) )"
   ]
  },
  {
   "cell_type": "code",
   "execution_count": 81,
   "metadata": {},
   "outputs": [
    {
     "data": {
      "text/html": [
       "<div>\n",
       "<style scoped>\n",
       "    .dataframe tbody tr th:only-of-type {\n",
       "        vertical-align: middle;\n",
       "    }\n",
       "\n",
       "    .dataframe tbody tr th {\n",
       "        vertical-align: top;\n",
       "    }\n",
       "\n",
       "    .dataframe thead th {\n",
       "        text-align: right;\n",
       "    }\n",
       "</style>\n",
       "<table border=\"1\" class=\"dataframe\">\n",
       "  <thead>\n",
       "    <tr style=\"text-align: right;\">\n",
       "      <th></th>\n",
       "      <th>id</th>\n",
       "      <th>popularity</th>\n",
       "      <th>budget</th>\n",
       "      <th>revenue</th>\n",
       "      <th>runtime</th>\n",
       "      <th>vote_count</th>\n",
       "      <th>vote_average</th>\n",
       "      <th>release_year</th>\n",
       "      <th>budget_adj</th>\n",
       "      <th>revenue_adj</th>\n",
       "    </tr>\n",
       "  </thead>\n",
       "  <tbody>\n",
       "    <tr>\n",
       "      <th>count</th>\n",
       "      <td>9770.000000</td>\n",
       "      <td>9770.000000</td>\n",
       "      <td>9.770000e+03</td>\n",
       "      <td>9.770000e+03</td>\n",
       "      <td>9770.000000</td>\n",
       "      <td>9770.000000</td>\n",
       "      <td>9770.000000</td>\n",
       "      <td>9770.000000</td>\n",
       "      <td>9.770000e+03</td>\n",
       "      <td>9.770000e+03</td>\n",
       "    </tr>\n",
       "    <tr>\n",
       "      <th>mean</th>\n",
       "      <td>63190.584033</td>\n",
       "      <td>0.694775</td>\n",
       "      <td>1.618298e+07</td>\n",
       "      <td>4.424026e+07</td>\n",
       "      <td>102.939611</td>\n",
       "      <td>239.353224</td>\n",
       "      <td>5.963388</td>\n",
       "      <td>2000.876766</td>\n",
       "      <td>1.941997e+07</td>\n",
       "      <td>5.706477e+07</td>\n",
       "    </tr>\n",
       "    <tr>\n",
       "      <th>std</th>\n",
       "      <td>90725.204030</td>\n",
       "      <td>1.037027</td>\n",
       "      <td>3.221320e+07</td>\n",
       "      <td>1.225998e+08</td>\n",
       "      <td>27.865500</td>\n",
       "      <td>603.066348</td>\n",
       "      <td>0.913207</td>\n",
       "      <td>13.037610</td>\n",
       "      <td>3.566891e+07</td>\n",
       "      <td>1.514632e+08</td>\n",
       "    </tr>\n",
       "    <tr>\n",
       "      <th>min</th>\n",
       "      <td>5.000000</td>\n",
       "      <td>0.000188</td>\n",
       "      <td>0.000000e+00</td>\n",
       "      <td>0.000000e+00</td>\n",
       "      <td>0.000000</td>\n",
       "      <td>10.000000</td>\n",
       "      <td>1.500000</td>\n",
       "      <td>1960.000000</td>\n",
       "      <td>0.000000e+00</td>\n",
       "      <td>0.000000e+00</td>\n",
       "    </tr>\n",
       "    <tr>\n",
       "      <th>25%</th>\n",
       "      <td>10220.500000</td>\n",
       "      <td>0.232619</td>\n",
       "      <td>0.000000e+00</td>\n",
       "      <td>0.000000e+00</td>\n",
       "      <td>90.000000</td>\n",
       "      <td>18.000000</td>\n",
       "      <td>5.400000</td>\n",
       "      <td>1994.000000</td>\n",
       "      <td>0.000000e+00</td>\n",
       "      <td>0.000000e+00</td>\n",
       "    </tr>\n",
       "    <tr>\n",
       "      <th>50%</th>\n",
       "      <td>18677.500000</td>\n",
       "      <td>0.419762</td>\n",
       "      <td>2.000000e+05</td>\n",
       "      <td>0.000000e+00</td>\n",
       "      <td>100.000000</td>\n",
       "      <td>46.000000</td>\n",
       "      <td>6.000000</td>\n",
       "      <td>2005.000000</td>\n",
       "      <td>3.179631e+05</td>\n",
       "      <td>0.000000e+00</td>\n",
       "    </tr>\n",
       "    <tr>\n",
       "      <th>75%</th>\n",
       "      <td>70541.750000</td>\n",
       "      <td>0.776465</td>\n",
       "      <td>1.936250e+07</td>\n",
       "      <td>3.105779e+07</td>\n",
       "      <td>112.000000</td>\n",
       "      <td>173.000000</td>\n",
       "      <td>6.600000</td>\n",
       "      <td>2011.000000</td>\n",
       "      <td>2.467646e+07</td>\n",
       "      <td>4.312856e+07</td>\n",
       "    </tr>\n",
       "    <tr>\n",
       "      <th>max</th>\n",
       "      <td>417859.000000</td>\n",
       "      <td>32.985763</td>\n",
       "      <td>4.250000e+08</td>\n",
       "      <td>2.781506e+09</td>\n",
       "      <td>877.000000</td>\n",
       "      <td>9767.000000</td>\n",
       "      <td>8.700000</td>\n",
       "      <td>2015.000000</td>\n",
       "      <td>4.250000e+08</td>\n",
       "      <td>2.827124e+09</td>\n",
       "    </tr>\n",
       "  </tbody>\n",
       "</table>\n",
       "</div>"
      ],
      "text/plain": [
       "                  id   popularity        budget       revenue      runtime  \\\n",
       "count    9770.000000  9770.000000  9.770000e+03  9.770000e+03  9770.000000   \n",
       "mean    63190.584033     0.694775  1.618298e+07  4.424026e+07   102.939611   \n",
       "std     90725.204030     1.037027  3.221320e+07  1.225998e+08    27.865500   \n",
       "min         5.000000     0.000188  0.000000e+00  0.000000e+00     0.000000   \n",
       "25%     10220.500000     0.232619  0.000000e+00  0.000000e+00    90.000000   \n",
       "50%     18677.500000     0.419762  2.000000e+05  0.000000e+00   100.000000   \n",
       "75%     70541.750000     0.776465  1.936250e+07  3.105779e+07   112.000000   \n",
       "max    417859.000000    32.985763  4.250000e+08  2.781506e+09   877.000000   \n",
       "\n",
       "        vote_count  vote_average  release_year    budget_adj   revenue_adj  \n",
       "count  9770.000000   9770.000000   9770.000000  9.770000e+03  9.770000e+03  \n",
       "mean    239.353224      5.963388   2000.876766  1.941997e+07  5.706477e+07  \n",
       "std     603.066348      0.913207     13.037610  3.566891e+07  1.514632e+08  \n",
       "min      10.000000      1.500000   1960.000000  0.000000e+00  0.000000e+00  \n",
       "25%      18.000000      5.400000   1994.000000  0.000000e+00  0.000000e+00  \n",
       "50%      46.000000      6.000000   2005.000000  3.179631e+05  0.000000e+00  \n",
       "75%     173.000000      6.600000   2011.000000  2.467646e+07  4.312856e+07  \n",
       "max    9767.000000      8.700000   2015.000000  4.250000e+08  2.827124e+09  "
      ]
     },
     "execution_count": 81,
     "metadata": {},
     "output_type": "execute_result"
    }
   ],
   "source": [
    "df.describe()"
   ]
  },
  {
   "cell_type": "code",
   "execution_count": 82,
   "metadata": {},
   "outputs": [
    {
     "data": {
      "image/png": "[encoded data removed]",
      "text/plain": [
       "<Figure size 432x288 with 2 Axes>"
      ]
     },
     "metadata": {
      "needs_background": "light"
     },
     "output_type": "display_data"
    }
   ],
   "source": [
    "df_corr=df[['revenue','budget','popularity','vote_count']].corr()\n",
    "sns.heatmap(df_corr,annot=True)\n",
    "plt.title('Correlation Matrix');"
   ]
  },
  {
   "cell_type": "code",
   "execution_count": 83,
   "metadata": {},
   "outputs": [
    {
     "data": {
      "image/png": "[encoded data removed]",
      "text/plain": [
       "<Figure size 432x288 with 1 Axes>"
      ]
     },
     "metadata": {
      "needs_background": "light"
     },
     "output_type": "display_data"
    }
   ],
   "source": [
    "# Scatter plot of revenue and budget\n",
    "plt.scatter(df['budget'],df['revenue'])\n",
    "plt.title('Revenue versus Budget')\n",
    "plt.xlabel('Budget')\n",
    "plt.ylabel('Revenue')\n",
    "plt.show()"
   ]
  },
  {
   "cell_type": "code",
   "execution_count": null,
   "metadata": {},
   "outputs": [],
   "source": []
  },
  {
   "cell_type": "code",
   "execution_count": 84,
   "metadata": {},
   "outputs": [
    {
     "data": {
      "image/png": "[encoded data removed]",
      "text/plain": [
       "<Figure size 432x288 with 1 Axes>"
      ]
     },
     "metadata": {
      "needs_background": "light"
     },
     "output_type": "display_data"
    }
   ],
   "source": [
    "#Scatter plot of revenue and popularity\n",
    "plt.scatter(df['popularity'],df['revenue'])\n",
    "plt.title('Revenue versus Popularity of movie')\n",
    "plt.xlabel('Popularity of movie')\n",
    "plt.ylabel('Revenue')\n",
    "plt.show()"
   ]
  },
  {
   "cell_type": "code",
   "execution_count": 85,
   "metadata": {},
   "outputs": [
    {
     "data": {
      "image/png": "[encoded data removed]",
      "text/plain": [
       "<Figure size 432x288 with 1 Axes>"
      ]
     },
     "metadata": {
      "needs_background": "light"
     },
     "output_type": "display_data"
    }
   ],
   "source": [
    "#Scatter plot of revenue and popularity\n",
    "plt.scatter(df['vote_count'],df['revenue'])\n",
    "plt.title('Revenue versus Popularity of movie')\n",
    "plt.xlabel('vote count of movies')\n",
    "plt.ylabel('Revenue')\n",
    "plt.show()"
   ]
  },
  {
   "cell_type": "markdown",
   "metadata": {},
   "source": [
    "Fom the correlation plot and the scatter plots above you will realise that  Revenue has a strong postive correlation with Budget, Popularity, Vote counts with a coefficient of 0.73, 0.66, 0.79 respectively"
   ]
  },
  {
   "cell_type": "markdown",
   "metadata": {},
   "source": [
    "### Research Question 2  (Which person has directed a lot of movies)"
   ]
  },
  {
   "cell_type": "code",
   "execution_count": 86,
   "metadata": {},
   "outputs": [
    {
     "data": {
      "image/png": "[encoded data removed]",
      "text/plain": [
       "<Figure size 432x288 with 1 Axes>"
      ]
     },
     "metadata": {
      "needs_background": "light"
     },
     "output_type": "display_data"
    }
   ],
   "source": [
    "df['director'].value_counts()[:10].plot(kind='bar',title='Top ten Directors');\n"
   ]
  },
  {
   "cell_type": "markdown",
   "metadata": {},
   "source": [
    "From the barplot above, the director with the highest number of movies is ` Woody Allen ` with more than 40 movies to his credit"
   ]
  },
  {
   "cell_type": "markdown",
   "metadata": {},
   "source": [
    "### Research Question 3 (Does Year of release has some kind of effect on Revenue)"
   ]
  },
  {
   "cell_type": "code",
   "execution_count": 87,
   "metadata": {},
   "outputs": [
    {
     "data": {
      "image/png": "[encoded data removed]",
      "text/plain": [
       "<Figure size 432x288 with 1 Axes>"
      ]
     },
     "metadata": {
      "needs_background": "light"
     },
     "output_type": "display_data"
    }
   ],
   "source": [
    "df.groupby('release_year')['revenue'].mean().plot()\n",
    "plt.title('Average Revenue versus year of release' )\n",
    "plt.xlabel('Year of Release')\n",
    "plt.ylabel('Average Revenue');"
   ]
  },
  {
   "cell_type": "markdown",
   "metadata": {},
   "source": [
    "From the diagram above, Average revenue of a movie produced in year had an upward trend from ` 1960` and decreased from somewhere in the mid ` 2000's `"
   ]
  },
  {
   "cell_type": "markdown",
   "metadata": {},
   "source": [
    "<a id='conclusions'></a>\n",
    "## Conclusions\n",
    "From the analysis above, we conclude that;\n",
    "* Revenue has a strong postive correlation with Budget, Popularity, Vote counts.\n",
    "* The most popular director is ` Woody Allen `\n",
    "* Average revenue of a movie produced in year had an upward trend from ` 1960` and decreased from somewhere in the mid ` 2000's `"
   ]
  },
  {
   "cell_type": "code",
   "execution_count": 88,
   "metadata": {},
   "outputs": [
    {
     "data": {
      "text/plain": [
       "0"
      ]
     },
     "execution_count": 88,
     "metadata": {},
     "output_type": "execute_result"
    }
   ],
   "source": [
    "from subprocess import call\n",
    "call(['python', '-m', 'nbconvert', 'Investigate_a_Dataset.ipynb'])"
   ]
  },
  {
   "cell_type": "code",
   "execution_count": null,
   "metadata": {},
   "outputs": [],
   "source": []
  }
 ],
 "metadata": {
  "kernelspec": {
   "display_name": "Python 3",
   "language": "python",
   "name": "python3"
  },
  "language_info": {
   "codemirror_mode": {
    "name": "ipython",
    "version": 3
   },
   "file_extension": ".py",
   "mimetype": "text/x-python",
   "name": "python",
   "nbconvert_exporter": "python",
   "pygments_lexer": "ipython3",
   "version": "3.8.3"
  },
  "latex_envs": {
   "LaTeX_envs_menu_present": true,
   "autoclose": false,
   "autocomplete": true,
   "bibliofile": "biblio.bib",
   "cite_by": "apalike",
   "current_citInitial": 1,
   "eqLabelWithNumbers": true,
   "eqNumInitial": 1,
   "hotkeys": {
    "equation": "Ctrl-E",
    "itemize": "Ctrl-I"
   },
   "labels_anchors": false,
   "latex_user_defs": false,
   "report_style_numbering": false,
   "user_envs_cfg": false
  },
  "toc": {
   "base_numbering": 1,
   "nav_menu": {},
   "number_sections": true,
   "sideBar": true,
   "skip_h1_title": false,
   "title_cell": "Table of Contents",
   "title_sidebar": "Contents",
   "toc_cell": false,
   "toc_position": {},
   "toc_section_display": true,
   "toc_window_display": false
  }
 },
 "nbformat": 4,
 "nbformat_minor": 2
}
